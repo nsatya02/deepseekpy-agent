{
 "cells": [
  {
   "cell_type": "code",
   "execution_count": 2,
   "id": "7ad8845b-aefa-4688-9ef5-d8238a03468e",
   "metadata": {},
   "outputs": [],
   "source": [
    "import sys\n",
    "from io import StringIO\n",
    "from groq import Groq\n",
    "import re\n",
    "import os"
   ]
  },
  {
   "cell_type": "code",
   "execution_count": 5,
   "id": "329e5d63-b5f4-45bf-9fcf-8e72ef870f8a",
   "metadata": {},
   "outputs": [],
   "source": [
    "def generate_code(question,data=None, data_context=\"\"):\n",
    "    client= Groq(api_key=\"api-key\")\n",
    "    system_prompt = \"\"\" generate python code that:\n",
    "    -Uses only provided variables\n",
    "    -prints results\n",
    "    -Inculde any needed imports\"\"\"\n",
    "    user_message= f\"{data_context}\\n Available variables: {list(data.keys()) if data else []}\\n\\n Task: {question}\"\n",
    "\n",
    "    chat_completion = client.chat.completions.create(\n",
    "        messages=[\n",
    "            {\"role\":\"system\", \"content\":system_prompt},\n",
    "            {\"role\":\"user\",\"content\": user_message}\n",
    "        ],\n",
    "        model = \"deepseek-r1-distill-llama-70b\"\n", # change your model as per your requirement.
    "    )\n",
    "\n",
    "    response = chat_completion.choices[0].message.content\n",
    "    return clean_code_response(response)"
   ]
  },
  {
   "cell_type": "code",
   "execution_count": 6,
   "id": "945e15b7-96ad-49d3-84e7-01b0f48a71c8",
   "metadata": {},
   "outputs": [],
   "source": [
    "def clean_code_response(response):\n",
    "    response = re.sub(r'<think>.*?</think>','',response, flags=re.DOTALL)\n",
    "    code_match=re.search(r'```python\\n(.*?)```',response, flags=re.DOTALL)\n",
    "    if code_match:\n",
    "        return code_match.group(1).strip()\n",
    "    return response.strip()"
   ]
  },
  {
   "cell_type": "code",
   "execution_count": 9,
   "id": "c19ce6d3-0a0f-4fd2-9c7f-272928d780ab",
   "metadata": {},
   "outputs": [],
   "source": [
    "res = generate_code(\"write a small python script\", data_context=\"\")"
   ]
  },
  {
   "cell_type": "code",
   "execution_count": 10,
   "id": "34694cd9-f5fc-4135-a5cf-11371acf49d6",
   "metadata": {},
   "outputs": [
    {
     "name": "stdout",
     "output_type": "stream",
     "text": [
      "# This is a simple Python script that prints a message\n",
      "\n",
      "def main():\n",
      "    print(\"Hello, World!\")\n",
      "    \n",
      "if __name__ == \"__main__\":\n",
      "    main()\n"
     ]
    }
   ],
   "source": [
    "print(res)"
   ]
  },
  {
   "cell_type": "code",
   "execution_count": 15,
   "id": "4446c7c4-5cd2-42d3-b99d-d9a957275aee",
   "metadata": {},
   "outputs": [],
   "source": [
    "def execute_python(code, data=None):\n",
    "    old_stdout= sys.stdout\n",
    "    sys.stdout= StringIO()\n",
    "    local_vars= data or {}\n",
    "    \n",
    "    try:\n",
    "        exec(code,local_vars)\n",
    "        output = sys.stdout.getvalue()\n",
    "        return {\"output\": output,\"error\":None,\"results\": local_vars}\n",
    "    except Exception as e:\n",
    "        return {\"output\": None,\"error\":str(e),\"results\": local_vars}\n",
    "    finally:\n",
    "        sys.stdout = old_stdout"
   ]
  },
  {
   "cell_type": "code",
   "execution_count": 12,
   "id": "e96d9a35-a103-4a2c-85f7-f1f09601a697",
   "metadata": {},
   "outputs": [],
   "source": [
    "def agent(question, data=None, data_context=\"\"):\n",
    "    solution= generate_code(question, data, data_context)\n",
    "    print(\"Generated code:\", solution)\n",
    "    result=execute_python(solution,data)\n",
    "    print(\"\\n execution results:\")\n",
    "    if result['error']:\n",
    "        print(f\"Error: {result['error']}\")\n",
    "    else:\n",
    "        print(result['output'])\n",
    "    return solution, result"
   ]
  },
  {
   "cell_type": "code",
   "execution_count": 13,
   "id": "b39d8c30-e5c6-4c86-873c-bcb384406b74",
   "metadata": {},
   "outputs": [],
   "source": [
    "import pandas as pd\n",
    "import numpy as np\n",
    "\n",
    "# Set the random seed for consistency\n",
    "np.random.seed(42)\n",
    "\n",
    "# Generate a series of dates (one year)\n",
    "dates = pd.date_range(start='2023-01-01', end='2023-12-31', freq='D')\n",
    "\n",
    "# Create a DataFrame with simulated data\n",
    "df = pd.DataFrame({\n",
    "    'date': dates,\n",
    "    'category': np.random.choice(['Electronics', 'Clothing', 'Food', 'Books'], size=len(dates)),\n",
    "    'store_id': np.random.choice(['Store_' + str(i) for i in range(1, 6)], size=len(dates)),\n",
    "    'sales': np.random.normal(1000, 200, size=len(dates)),\n",
    "    'temperature': np.random.normal(20, 5, size=len(dates)),\n",
    "    'weekend': dates.dayofweek >= 5\n",
    "})\n",
    "\n",
    "# Introduce some relationships in the data\n",
    "df['sales'] = df['sales'] * (1.2 * df['weekend'])  # Higher sales on weekends\n",
    "df.loc[df['category'] == 'Electronics', 'sales'] *= 1.5  # Electronics tend to have higher sales\n",
    "df['sales'] = df['sales'].abs().round(2)  # Ensure sales are positive and round the values"
   ]
  },
  {
   "cell_type": "code",
   "execution_count": 16,
   "id": "22846931-52a7-4448-8543-c945365261b1",
   "metadata": {},
   "outputs": [
    {
     "name": "stdout",
     "output_type": "stream",
     "text": [
      "Generated code: import pandas as pd\n",
      "\n",
      "# Calculate total sales by category\n",
      "total_sales_by_category = df.groupby('category')['sales'].sum().reset_index()\n",
      "\n",
      "# Calculate average sales for weekends and weekdays\n",
      "average_weekend_sales = df[df['weekend']]['sales'].mean()\n",
      "average_weekday_sales = df[~df['weekend']]['sales'].mean()\n",
      "\n",
      "# Print results\n",
      "print(\"Total Sales by Category:\")\n",
      "print(total_sales_by_category)\n",
      "print(\"\\nAverage Weekend Sales: \", average_weekend_sales)\n",
      "print(\"Average Weekday Sales: \", average_weekday_sales)\n",
      "\n",
      "# Determine if weekends have higher average sales\n",
      "if average_weekend_sales > average_weekday_sales:\n",
      "    print(\"\\nWeekends have higher average sales.\")\n",
      "else:\n",
      "    print(\"\\nWeekends do not have higher average sales.\")\n",
      "\n",
      " execution results:\n",
      "Total Sales by Category:\n",
      "      category     sales\n",
      "0        Books  37810.68\n",
      "1     Clothing  35277.34\n",
      "2  Electronics  38313.36\n",
      "3         Food  25111.51\n",
      "\n",
      "Average Weekend Sales:  1300.122761904762\n",
      "Average Weekday Sales:  0.0\n",
      "\n",
      "Weekends have higher average sales.\n",
      "\n"
     ]
    }
   ],
   "source": [
    "# Define the analytical task for sales analysis using pandas.\n",
    "question = \"Analyze sales patterns: calculate total sales by category and show if weekends have higher average sales\"\n",
    "context = \"\"\"DataFrame 'df' contains columns:\n",
    "- date: daily dates for 2023\n",
    "- category: product category (Electronics, Clothing, Food, Books)\n",
    "- store_id: store identifier\n",
    "- sales: daily sales amount\n",
    "- temperature: daily temperature\n",
    "- weekend: boolean flag indicating weekends\n",
    "\"\"\"\n",
    "\n",
    "# Invoke the agent with the question, the simulated DataFrame, and the data context.\n",
    "solution, result = agent(question=question, data={'df': df}, data_context=context)"
   ]
  },
  {
   "cell_type": "code",
   "execution_count": 17,
   "id": "c2b05de3-9a5f-4bd6-a9a5-70fb3cc18ab1",
   "metadata": {},
   "outputs": [
    {
     "name": "stdout",
     "output_type": "stream",
     "text": [
      "Generated code: # Import necessary libraries\n",
      "import pandas as pd\n",
      "from sklearn.model_selection import train_test_split\n",
      "from sklearn.ensemble import RandomForestRegressor\n",
      "from sklearn.metrics import mean_squared_error, r2_score\n",
      "import numpy as np\n",
      "\n",
      "# Prepare features and target\n",
      "X = df[['temperature', 'weekend']]\n",
      "y = df['sales']\n",
      "\n",
      "# Split data into training and testing sets\n",
      "X_train, X_test, y_train, y_test = train_test_split(X, y, test_size=0.2, random_state=42)\n",
      "\n",
      "# Initialize and train the model\n",
      "model = RandomForestRegressor(n_estimators=100, random_state=42)\n",
      "model.fit(X_train, y_train)\n",
      "\n",
      "# Make predictions\n",
      "y_pred = model.predict(X_test)\n",
      "\n",
      "# Evaluate the model\n",
      "mse = mean_squared_error(y_test, y_pred)\n",
      "r2 = r2_score(y_test, y_pred)\n",
      "\n",
      "# Create feature importance DataFrame\n",
      "feature_importance = pd.DataFrame({\n",
      "    'feature': X.columns,\n",
      "    'importance': model.feature_importances_\n",
      "})\n",
      "\n",
      "# Sort by importance\n",
      "feature_importance = feature_importance.sort_values('importance', ascending=False)\n",
      "\n",
      "# Print results\n",
      "print(\"Model Evaluation:\")\n",
      "print(f\"Mean Squared Error: {mse:.2f}\")\n",
      "print(f\"R-squared Score: {r2:.2f}\")\n",
      "print(\"\\nFeature Importance:\")\n",
      "print(feature_importance)\n",
      "\n",
      " execution results:\n",
      "Model Evaluation:\n",
      "Mean Squared Error: 56655.35\n",
      "R-squared Score: 0.84\n",
      "\n",
      "Feature Importance:\n",
      "       feature  importance\n",
      "1      weekend     0.88158\n",
      "0  temperature     0.11842\n",
      "\n"
     ]
    }
   ],
   "source": [
    "# Define the predictive modeling task using scikit-learn.\n",
    "question = \"Train a model to predict sales using temperature and weekend flag as features. Show feature importance.\"\n",
    "context = \"\"\"DataFrame 'df' has the following columns:\n",
    "- date: daily dates for 2023\n",
    "- category: product category (Electronics, Clothing, Food, Books)\n",
    "- store_id: store identifier\n",
    "- sales: daily sales amount (target variable)\n",
    "- temperature: daily temperature (feature)\n",
    "- weekend: boolean flag (feature)\n",
    "\"\"\"\n",
    "\n",
    "# Invoke the agent to generate, execute, and display code for the ML task\n",
    "solution, result = agent(question=question, data={'df': df}, data_context=context)"
   ]
  },
  {
   "cell_type": "code",
   "execution_count": null,
   "id": "f8ea0bc9-5198-4878-842c-1f1e24f9df32",
   "metadata": {},
   "outputs": [],
   "source": []
  }
 ],
 "metadata": {
  "kernelspec": {
   "display_name": "Python 3 (ipykernel)",
   "language": "python",
   "name": "python3"
  },
  "language_info": {
   "codemirror_mode": {
    "name": "ipython",
    "version": 3
   },
   "file_extension": ".py",
   "mimetype": "text/x-python",
   "name": "python",
   "nbconvert_exporter": "python",
   "pygments_lexer": "ipython3",
   "version": "3.12.7"
  }
 },
 "nbformat": 4,
 "nbformat_minor": 5
}
